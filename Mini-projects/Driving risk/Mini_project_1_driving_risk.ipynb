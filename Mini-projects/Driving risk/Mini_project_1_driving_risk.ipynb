{
  "cells": [
    {
      "cell_type": "markdown",
      "id": "e32e6a8d",
      "metadata": {
        "pycharm": {
          "name": "#%% md\n"
        },
        "id": "e32e6a8d"
      },
      "source": [
        "# TPM034A Machine Learning for socio-technical systems\n",
        "## `Mini-project #1: Predicting driving risk on roads`\n",
        "\n",
        "**Delft University of Technology**<br>\n",
        "**Q2 2024**<br>\n",
        "**Module manager:** Dr. Sander van Cranenburgh <br>\n",
        "**Instructors:** Dr. Sander van Cranenburgh, Dr. Giacomo Marangoni, Dr. Amir Pooyan Afghari <br>\n",
        "**TAs:**  Francisco Garrido Valenzuela & Lucas Spierenburg <br>"
      ]
    },
    {
      "cell_type": "markdown",
      "id": "5f634f93",
      "metadata": {
        "pycharm": {
          "name": "#%% md\n"
        },
        "id": "5f634f93"
      },
      "source": [
        "## `Learning objectives:`\n",
        "This mini-project addresses LO3, LO4, LO5 and LO6 in the course.\n",
        "\n",
        "After the course, students can:\n",
        "1.\texplain fundamental concepts of machine learning (ML).\n",
        "2.\tconceptually explain the workings of a selected number of ML models and eXplainable AI (XAI) techniques, and apply these to empirical data.\n",
        "3.\t**identify applications of ML and XAI techniques in real-world socio-technical systems.**\n",
        "4.\t**examine the impact of ML-based solutions and interventions on individuals, organisations, and society through XAI.**\n",
        "5.\t**conduct an in-depth analysis of a real-world socio-technical challenge, by applying ML and XAI to empirical data.**\n",
        "6.\t**reflect on the strengths and limitations of ML and XAI in real-world socio-technical systems.**"
      ]
    },
    {
      "cell_type": "markdown",
      "metadata": {
        "collapsed": false,
        "pycharm": {
          "name": "#%% md\n"
        },
        "id": "3KGcKULKqzEA"
      },
      "source": [
        "## `Project description` <br>\n",
        "\n",
        "### **Introduction**\n",
        "\n",
        "Driving risk on roads can be measured via different indicators. Traffic crashes have been used as the most common indicators of risk on roads. However, crashes are rare events and should occur so that their data can be collected and analysed. Theodore, relying on crashes is reactive. There is a need for proactive indicators of risk such as near-misses which are one stage prior to the crashes. Near-misses can be defined based on different driving kinematics such as headway (the gap between a vehicle and its leading vehicle, in terms of time seconds). Meanwhile, many factors contribute to risk arising from distinct sources such as drivers’ demographics, past behaviours, driving style, as well as road environment and traffic characteristics.\n",
        "\n",
        "*The objective of this mini-project is to predict risk while driving and identify factors that contribute the most to it.*<br>\n",
        "\n",
        "### **Data**\n",
        "\n",
        "You have access to the following data for a sample of drivers in Belgium:\n",
        "1.\tUnique identifier for every driver\n",
        "2.\tIndividual characteristics of drivers\n",
        "3.\tDrivers’ responses to an entry questionnaire\n",
        "4.\tDriving data\n",
        "\n",
        "The file 'data description.pdf' provides a brief explanation of the data.\n",
        "\n",
        "### **Tasks and grading**\n",
        "\n",
        "There are 5 tasks in this project. In total, **9.5 points** can be earned for these 5 tasks and **0.5 points** is dedicated to your code. The weight per task is shown below.\n",
        "1. Prepare the data and apply a proper analytical model to predict driving risk **[3.5 points]**\n",
        "2.\tIdentify the most important features contributing to driving risk **[1 point]**\n",
        "3.\tName two analytical strengths and two analytical limitations of your selected model and data to predict driving risk **[2 points]**\n",
        "4.\tDiscuss the societal impact of these strengths and limitations on individuals, organisations, and society **[2 points]**\n",
        "5.\tPropose a potential analytical solution (related to model or data) for mitigating the most severe limitation **[1 point]**\n",
        "\n",
        "### **Grading criteria:**\n",
        "\n",
        "For the first 2 tasks:\n",
        "**Correctness of methods and techniques (45%)**\n",
        "**Completeness (45%)**\n",
        "**Coding skills (10%)**\n",
        "\n",
        "For tasks 3, 4 and 5:\n",
        "**Depth of critical thinking and creativity (60%)**\n",
        "**Completeness (40%)**\n",
        "\n",
        "### **Submission**\n",
        "When you finish the project, please submit the Jupyter Notebook file of your work to Brightspace and prepare a final presentation (including the results of the tasks) to be delivered on the presentations day.\n",
        "\n",
        "This project is a group project and so each group must submit one Jupyter Notebook file. However, it is expected that all members of the group contribute to the project. **Please prepare a short statement about the \"Members contributions\" in your final presentation and outline who did what in the project.**\n",
        "\n",
        "The deadline for submission is **06/01/2025**."
      ],
      "id": "3KGcKULKqzEA"
    }
  ],
  "metadata": {
    "kernelspec": {
      "display_name": "Python 3.9.15 64-bit ('master')",
      "language": "python",
      "name": "python3"
    },
    "language_info": {
      "codemirror_mode": {
        "name": "ipython",
        "version": 3
      },
      "file_extension": ".py",
      "mimetype": "text/x-python",
      "name": "python",
      "nbconvert_exporter": "python",
      "pygments_lexer": "ipython3",
      "version": "3.9.15"
    },
    "vscode": {
      "interpreter": {
        "hash": "7974d34fcb2fda30c24d36d46a04787ea74667e8ee7ebb23e71d798c59985c98"
      }
    },
    "colab": {
      "provenance": []
    }
  },
  "nbformat": 4,
  "nbformat_minor": 5
}
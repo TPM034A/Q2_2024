{
  "cells": [
    {
      "cell_type": "markdown",
      "id": "e32e6a8d",
      "metadata": {
        "pycharm": {
          "name": "#%% md\n"
        },
        "id": "e32e6a8d"
      },
      "source": [
        "# TPM034A Machine Learning for socio-technical systems\n",
        "## `Mini-project #2: Identifying ‘the silent majority’ in citizen participation consultation in the Netherlands`\n",
        "\n",
        "**Delft University of Technology**<br>\n",
        "**Q2 2024**<br>\n",
        "**Module manager:** Dr. Sander van Cranenburgh <br>\n",
        "**Instructors:** Dr. Sander van Cranenburgh, Dr. Giacomo Marangoni, Dr. Amir Pooyan Afghari <br>\n",
        "**TAs:**  Francisco Garrido Valenzuela & Lucas Spierenburg <br>"
      ]
    },
    {
      "cell_type": "markdown",
      "id": "5f634f93",
      "metadata": {
        "pycharm": {
          "name": "#%% md\n"
        },
        "id": "5f634f93"
      },
      "source": [
        "## `Learning objectives:`\n",
        "This mini-project addresses LO3, LO4, LO5 and LO6 in the course.\n",
        "\n",
        "After the course, students can:\n",
        "1.\texplain fundamental concepts of machine learning (ML).\n",
        "2.\tconceptually explain the workings of a selected number of ML models and eXplainable AI (XAI) techniques, and apply these to empirical data.\n",
        "3.\t**identify applications of ML and XAI techniques in real-world socio-technical systems.**\n",
        "4.\t**examine the impact of ML-based solutions and interventions on individuals, organisations, and society through XAI.**\n",
        "5.\t**conduct an in-depth analysis of a real-world socio-technical challenge, by applying ML and XAI to empirical data.**\n",
        "6.\t**reflect on the strengths and limitations of ML and XAI in real-world socio-technical systems.**"
      ]
    },
    {
      "cell_type": "markdown",
      "metadata": {
        "collapsed": false,
        "pycharm": {
          "name": "#%% md\n"
        },
        "id": "3KGcKULKqzEA"
      },
      "source": [
        "## `Project description` <br>\n",
        "\n",
        "### **Introduction**\n",
        "\n",
        "Populytics, a recently found company, studies the preferences of Dutch citizens about public policy dilemmas (such as wind turbines, refugee centers, and health care budgeting) in the Netherlands by carrying out large-scale online consultations using the scientific PVE-method. By gaining insight into the worries and preferences of citizens, the company provides the government (and other decision makers) with helpful insights to make better decisions. Within these consultations, there is often a large group of respondents with moderate preferences. This is a group that often says they haven’t actively voiced their opinion on the topic. Therefore, we colloquially refer to this group as ‘the silent majority’.\n",
        "There could be many reasons behind this moderate preference profile. Are they disinterested in the topic? Or unknowledgeable? Or is it a well-considered, nuanced position? And in the latter case, why? Are they reluctant to change, or realistic about social change? Or is something else entirely at play?\n",
        "\n",
        "*The objective of this mini-project is to predict this silent majority and the underlying reasons behind their ‘silence’. Are there recognizable, coherent and recurrent subgroups? What questions or (demographic) factors allow you to identify these subgroups?*<br>\n",
        "\n",
        "### **Data**\n",
        "You have access to the following data for a sample of citizens in the Netherlands:\n",
        "1.\tThe demographic information and individual characteristics of the citizens\n",
        "2.\tThe characteristics of the projects\n",
        "3.\tThe preferences of citizens for each project\n",
        "4.\tThe motivation behind citizens’ preferences for each project\n",
        "\n",
        "The file 'data description.pdf' provides a brief explanation of the data.\n",
        "\n",
        "### **Tasks and grading**\n",
        "\n",
        "There are 5 tasks in this project. In total, **9.5 points** can be earned for these 5 tasks and **0.5 points** is dedicated to your code. The weight per task is shown below.\n",
        "1. Prepare the data and apply a proper analytical model to predict “the silent majority” group among citizens  **[3.5 points]**\n",
        "2. Identify the most important features contributing to the “silent majority” group  **[1 point]**\n",
        "3. Name two analytical strengths and two analytical limitations of your selected model and data to predict “the silent majority”  **[2 points]**\n",
        "4. Discuss the societal impact of these strengths and limitations on individuals, organisations, and society  **[2 points]**\n",
        "5. Propose a potential analytical solution (related to model or data) for mitigating the most severe limitation  **[1 point]**\n",
        "\n",
        "### **Grading criteria:**\n",
        "\n",
        "For the first 2 tasks:\n",
        "**Correctness of methods and techniques (45%)**\n",
        "**Completeness (45%)**\n",
        "**Coding skills (10%)**\n",
        "\n",
        "For tasks 3, 4 and 5:\n",
        "**Depth of critical thinking and creativity (60%)**\n",
        "**Completeness (40%)**\n",
        "\n",
        "### **Submission**\n",
        "When you finish the project, please submit the Jupyter Notebook file of your work to Brightspace and prepare a final presentation (including the results of the tasks) to be delivered on the presentations day.\n",
        "\n",
        "This project is a group project and so each group must submit one Jupyter Notebook file. However, it is expected that all members of the group contribute to the project. **Please prepare a short statement about the \"Members contributions\" in your final presentation and outline who did what in the project.**\n",
        "\n",
        "The deadline for submission is **06/01/2025**."
      ],
      "id": "3KGcKULKqzEA"
    }
  ],
  "metadata": {
    "kernelspec": {
      "display_name": "Python 3.9.15 64-bit ('master')",
      "language": "python",
      "name": "python3"
    },
    "language_info": {
      "codemirror_mode": {
        "name": "ipython",
        "version": 3
      },
      "file_extension": ".py",
      "mimetype": "text/x-python",
      "name": "python",
      "nbconvert_exporter": "python",
      "pygments_lexer": "ipython3",
      "version": "3.9.15"
    },
    "vscode": {
      "interpreter": {
        "hash": "7974d34fcb2fda30c24d36d46a04787ea74667e8ee7ebb23e71d798c59985c98"
      }
    },
    "colab": {
      "provenance": []
    }
  },
  "nbformat": 4,
  "nbformat_minor": 5
}
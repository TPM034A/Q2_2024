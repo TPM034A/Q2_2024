{
 "cells": [
  {
   "cell_type": "markdown",
   "metadata": {},
   "source": [
    "# TPM034A Machine Learning for socio-technical systems \n",
    "## `Assignment 01: Data Exploration and MultiLayer Perceptrons`\n",
    "\n",
    "**Delft University of Technology**<br>\n",
    "**Q2 2024**<br>\n",
    "**Instructor:** Sander van Cranenburgh <br>\n",
    "**TAs:**  Francisco Garrido Valenzuela & Lucas Spierenburg <br>"
   ]
  },
  {
   "cell_type": "markdown",
   "metadata": {},
   "source": [
    "### `Instructions`\n",
    "\n",
    "**Assignments aim to:**<br>\n",
    "* Examine your understanding of the key concepts and techniques.\n",
    "* Examine your the applied ML skills.\n",
    "\n",
    "**Assignments:**<br>\n",
    "* Are graded and must be submitted (see the submission instruction below). "
   ]
  },
  {
   "cell_type": "markdown",
   "metadata": {},
   "source": [
    "### `Google Colab workspace set-up`\n",
    "\n",
    "Uncomment the following cells code lines if you are running this notebook on Colab"
   ]
  },
  {
   "cell_type": "code",
   "execution_count": 1,
   "metadata": {},
   "outputs": [],
   "source": [
    "#!git clone https://github.com/TPM034A/Q2_2024\n",
    "#!pip install -r Q2_2024/requirements_colab.txt\n",
    "#!mv \"/content/Q2_2024/Assignments/assignment_01/data\" /content/data"
   ]
  },
  {
   "cell_type": "markdown",
   "metadata": {},
   "source": [
    "## `Application: Cycling speed prediction for Rotterdam` <br>\n",
    "\n",
    "### **Introduction**\n",
    "\n",
    "In Dutch urban context, cycling is an important mode of transportation, serving both personal and commercial purposes, including delivery services. However, one of the challenges that individuals and companies frequently encounter is the lack of relevant cycling itineraries proposed by routing algorithms. This is partly due to the lack of accurate cycling speed information per road link. Hence, accurate information on cycling speeds could improve itinerary recommendation by routing apps, and, in turn, help individuals and companies to choose better cycling routes. \n",
    "\n",
    "One way to obtain accurate cypling speed data is by installing speed sensors on all road links. However, this is a costly and time-consuming process. Alternatively, one could use machine learning models to estimate cycling speeds based on other variables, such as road infrastructure, traffic, and weather conditions.\n",
    "\n",
    "Seeing a business opportunity, a data-analytics start-up company has collected data on average cycling speeds on several roads within a specific neighborhood. Now it needs to develop a machine learning model that can predict cycling speeds on any road link in the city of Rotterdam. You have been hired by this company for this task. Specifically, in this assignment you need todevelop an MLP that is capable of predicting the (average) cycling speeds per road link for the entire city of Amsterdam based publicly available street infrastructure data.\n",
    "\n",
    "List of tasks:\n",
    "1. Explore the cycling speed data provided by the company, to determine if it can be used for your task\n",
    "1. Train an MLP model to predict average cycling speed\n",
    "1. Evaluate and reflect on the performance of your model\n",
    "\n",
    "### **Data**\n",
    "\n",
    "You have access to 2 data sets:\n",
    "1. Training dataset: first_campaign.gpkg\n",
    "1. Testing dataset: validation_campaign.gpkg\n",
    "<br>\n",
    "\n",
    "### **Tasks and grading**\n",
    "\n",
    "Your assignment is divided into 4 subtasks: (1) data inspection, (2) regression model, (3) MLP model, (4) performing an out-of-sample validation.\n",
    "\n",
    "1.  **Data inspection: Load the dataset and make a first inspection** [1.5 pnt]\n",
    "    1. Distribution of cycling speed:\n",
    "        1. Visualize the statistical distribution of cycling speed per street segment\n",
    "        1. Plot its spatial distribution on a map. Do the data make sense?\n",
    "    1. Number of observations per street:\n",
    "        1. Plot the distribution of number of observations per street\n",
    "        1. How many street segments have less than 3 observations?  Why is it a problem?\n",
    "1. **Training a first regression model** [3 pnt]\n",
    "    1. Selecting relevant columns: Which columns should you keep in your analysis? Why? \n",
    "    1. One-hot encoding: Which variables would you need to encode and why? (provide a list)\n",
    "    1. Split the data between training and test set.\n",
    "    1. Start with a simple model:\n",
    "        - Use a linear regression model\n",
    "        - Make that the columns are in the same order in both train and test sets.\n",
    "        - Evaluate the performance on the test set, using the R2, is the performance decent to use this model?\n",
    "    1. Plot the predicted speed on the test set against the true speed. Is there a speed region where the prediction are better/poorer?\n",
    "    1. Print the coefficient of the regression. Which features contribute to faster speed? Does that make sense?\n",
    "1. **Training a more advanced MLP model** [2.5 pnt]\n",
    "    1. Scaling variable: Which variables would you scale and why? (provide a list), use a minmax scaler.\n",
    "    1. Hyperparameter tuning: Design a grid search over the following hyperparameter space:\n",
    "        - hidden_layer_sizes: [(18),(10,10,10,10,10),(18,10)]\n",
    "        - learning_rate_init: [1e-2,1e-3,1e-5]\n",
    "        - alpha: [1,0.1]\n",
    "    1. Evaluate the performance on the test set, using the R2. How is the performance compared to the previous regression model?\n",
    "    1. Plot the predicted speed on the test set against the true speed. Is there a speed region where the prediction are better/poorer?\n",
    "1. **Out-of-sample validation** [3 pnt]\n",
    "    The company that hired you is impressed by your results. But to get more confidence about the generalisation performance, they decided to collect a new data set in another neighborhood.\n",
    "    1. Load and preprocess the validation data.\n",
    "        - Make sure that the validation data have the same columns as the original data in the same order\n",
    "        - Apply the same preprocessing as the data used for training\n",
    "    1. Measure the generalisation performance of the MLP model on the hold-out sample data.\n",
    "        1. Measure the performance\n",
    "        1. Plot the model's prediction against the true speed\n",
    "    1. Measure the generalisation performance of the regression model on the hold-out sample data\n",
    "        1. Measure the performance\n",
    "        1. Plot the model's prediction against the true speed\n",
    "    1. Reflect on the generalisation performance of your model\n",
    "        1. Discuss reasons why the models might perform better or worse on the validation data.\n",
    "        1. Which model performs better? Why?\n",
    "\n",
    "\n",
    "### **Competition for bonus**\n",
    "\n",
    "Within this assignment you can participate in the TPM034A Competition for getting up to 0.5 bonus point in grading. Please read the details about this [here](/Assignments/assignment_01/competition/competition.md).\n",
    "\n",
    "### **Submission**\n",
    "- The deadline for this assignment is **Monday, November 25th, 2024 at 9:00 am** \n",
    "- Use **Python 3.11**\n",
    "- You have to submit your work in zip file with the ipynb **(fully executed)** into Brightspace."
   ]
  },
  {
   "cell_type": "code",
   "execution_count": 2,
   "metadata": {},
   "outputs": [],
   "source": [
    "import geopandas as gpd\n",
    "import os\n",
    "from pathlib import Path\n",
    "from sklearn.preprocessing import MinMaxScaler\n",
    "from sklearn.model_selection import train_test_split, GridSearchCV\n",
    "from sklearn.linear_model import LinearRegression\n",
    "from sklearn.neural_network import MLPRegressor\n",
    "from sklearn.metrics import mean_squared_error, r2_score\n",
    "import numpy as np\n",
    "import pandas as pd\n",
    "import matplotlib.pyplot as plt\n",
    "import seaborn as sns\n",
    "import pickle\n",
    "\n",
    "pd.set_option('display.max_columns', None)"
   ]
  },
  {
   "cell_type": "markdown",
   "metadata": {},
   "source": [
    "### 1. Data inspection: Load the dataset and make a first inspection\n",
    "#### 1.1 Distribution of cycling speed:"
   ]
  },
  {
   "cell_type": "code",
   "execution_count": null,
   "metadata": {},
   "outputs": [],
   "source": []
  },
  {
   "cell_type": "markdown",
   "metadata": {},
   "source": [
    "#### 1.1.1 Visualize the statistical distribution of cycling speed per street segment"
   ]
  },
  {
   "cell_type": "code",
   "execution_count": null,
   "metadata": {},
   "outputs": [],
   "source": []
  },
  {
   "cell_type": "markdown",
   "metadata": {},
   "source": [
    "#### 1.1.2 Plot its spatial distribution on a map. Do the data make sense?"
   ]
  },
  {
   "cell_type": "code",
   "execution_count": null,
   "metadata": {},
   "outputs": [],
   "source": []
  },
  {
   "cell_type": "markdown",
   "metadata": {},
   "source": [
    "#### 1.2 Number of observation per street"
   ]
  },
  {
   "cell_type": "code",
   "execution_count": null,
   "metadata": {},
   "outputs": [],
   "source": []
  },
  {
   "cell_type": "markdown",
   "metadata": {},
   "source": [
    "#### 1.2.1 Plot the distribution of number of observations per street"
   ]
  },
  {
   "cell_type": "code",
   "execution_count": null,
   "metadata": {},
   "outputs": [],
   "source": []
  },
  {
   "cell_type": "markdown",
   "metadata": {},
   "source": [
    "#### 2.1.2 How many street segments have two or less observations? Why is it a problem?"
   ]
  },
  {
   "cell_type": "code",
   "execution_count": null,
   "metadata": {},
   "outputs": [],
   "source": []
  },
  {
   "cell_type": "markdown",
   "metadata": {},
   "source": [
    "### 2. Training multiple linear regression model"
   ]
  },
  {
   "cell_type": "code",
   "execution_count": null,
   "metadata": {},
   "outputs": [],
   "source": []
  },
  {
   "cell_type": "markdown",
   "metadata": {},
   "source": [
    "#### 2.1 Selecting relevant columns: Which columns should you keep in your analysis? Why?"
   ]
  },
  {
   "cell_type": "code",
   "execution_count": null,
   "metadata": {},
   "outputs": [],
   "source": []
  },
  {
   "cell_type": "markdown",
   "metadata": {},
   "source": [
    "#### 2.2 One-hot encoding: Which variables would you need to encode and why? (provide a list)"
   ]
  },
  {
   "cell_type": "code",
   "execution_count": null,
   "metadata": {},
   "outputs": [],
   "source": []
  },
  {
   "cell_type": "markdown",
   "metadata": {},
   "source": [
    "#### 2.3 Split the data into a training and test set."
   ]
  },
  {
   "cell_type": "code",
   "execution_count": null,
   "metadata": {},
   "outputs": [],
   "source": []
  },
  {
   "cell_type": "markdown",
   "metadata": {},
   "source": [
    "#### 2.4 Train your first model:"
   ]
  },
  {
   "cell_type": "code",
   "execution_count": null,
   "metadata": {},
   "outputs": [],
   "source": []
  },
  {
   "cell_type": "markdown",
   "metadata": {},
   "source": [
    "#### 2.5 Plot the predicted speed on the test set against the true speed. Is there a speed region where the prediction are better/poorer?"
   ]
  },
  {
   "cell_type": "code",
   "execution_count": null,
   "metadata": {},
   "outputs": [],
   "source": []
  },
  {
   "cell_type": "markdown",
   "metadata": {},
   "source": [
    "#### 2.6 Print the coefficient of the regression. Which features contribute to faster speed? Does that make sense?"
   ]
  },
  {
   "cell_type": "code",
   "execution_count": null,
   "metadata": {},
   "outputs": [],
   "source": []
  },
  {
   "cell_type": "markdown",
   "metadata": {},
   "source": [
    "### 3 Train a more advanced model: MLP\n",
    "hint: \n",
    "- When feeding tabular data to sklearn use a pandas dataframe instead of a numpy array \n",
    "- It allows sklearn to control for the order of the columns\n",
    "- It will be useful later in the assignment"
   ]
  },
  {
   "cell_type": "code",
   "execution_count": null,
   "metadata": {},
   "outputs": [],
   "source": []
  },
  {
   "cell_type": "markdown",
   "metadata": {},
   "source": [
    "#### 3.1 Scaling numerical features"
   ]
  },
  {
   "cell_type": "code",
   "execution_count": null,
   "metadata": {},
   "outputs": [],
   "source": []
  },
  {
   "cell_type": "markdown",
   "metadata": {},
   "source": [
    "#### 3.2 Hyperparameter tuning: Design a grid search over the following hyperparameter space:\n",
    " - hidden_layer_sizes: [(18),(10,10,10,10,10),(18,10)]\n",
    " - learning_rate_init: [1e-2,1e-3,1e-5]\n",
    " - alpha: [1,0.1]\n",
    "\n",
    "Fixed hyperparameters:\n",
    " - activation = 'relu'\n",
    " - solver = 'adam'\n",
    " - batch_size = 50\n",
    " - max_iter = 2000\n",
    " - random_state = 42\n",
    " \n",
    " Parameter for the grid search:\n",
    " - cv = 5\n",
    " - scoring = 'r2'\n",
    " - random_state = 42"
   ]
  },
  {
   "cell_type": "code",
   "execution_count": null,
   "metadata": {},
   "outputs": [],
   "source": []
  },
  {
   "cell_type": "markdown",
   "metadata": {},
   "source": [
    "#### 3.3 Train the model with the best parameters and evaluate the performance on the test set, using the R2."
   ]
  },
  {
   "cell_type": "code",
   "execution_count": null,
   "metadata": {},
   "outputs": [],
   "source": []
  },
  {
   "cell_type": "markdown",
   "metadata": {},
   "source": [
    "#### 3.4 Plot the predicted speed on the test set against the true speed. Is there a speed region where the prediction are better/poorer?"
   ]
  },
  {
   "cell_type": "code",
   "execution_count": null,
   "metadata": {},
   "outputs": [],
   "source": []
  },
  {
   "cell_type": "markdown",
   "metadata": {},
   "source": [
    "### 4. Out-of-sample validation\n",
    "The company hiring you finds your result for the models suspiciously good, they decided to collect more data in another neighborhood to check its performance.<br>\n",
    "Performance could change drastically"
   ]
  },
  {
   "cell_type": "code",
   "execution_count": null,
   "metadata": {},
   "outputs": [],
   "source": []
  },
  {
   "cell_type": "markdown",
   "metadata": {},
   "source": [
    "#### 4.1. Measure the generalisation performance of the MLP model on the hold-out sample data.\n",
    " - Make sure that the test data have the same columns as the original data in the same order: hint use a pandas dataframe instead of a numpy array (it allows sklearn to control for the order of the columns)\n",
    " - Apply the same preprocessing as the original data"
   ]
  },
  {
   "cell_type": "code",
   "execution_count": null,
   "metadata": {},
   "outputs": [],
   "source": []
  },
  {
   "cell_type": "markdown",
   "metadata": {},
   "source": [
    "### 4.1.1 Measure the performance"
   ]
  },
  {
   "cell_type": "code",
   "execution_count": null,
   "metadata": {},
   "outputs": [],
   "source": []
  },
  {
   "cell_type": "markdown",
   "metadata": {},
   "source": [
    "#### 4.1.2 Plot the model's prediction against the true speed. Comment on the model's prediction behavior."
   ]
  },
  {
   "cell_type": "code",
   "execution_count": null,
   "metadata": {},
   "outputs": [],
   "source": []
  },
  {
   "cell_type": "markdown",
   "metadata": {},
   "source": [
    "#### 4.2.1 Measure the generalisation performance of the regression model on the hold-out sample data"
   ]
  },
  {
   "cell_type": "code",
   "execution_count": null,
   "metadata": {},
   "outputs": [],
   "source": []
  },
  {
   "cell_type": "markdown",
   "metadata": {},
   "source": [
    "#### 4.2.2 Plot the model's prediction against the true speed. Comment on the model's prediction behavior."
   ]
  },
  {
   "cell_type": "code",
   "execution_count": null,
   "metadata": {},
   "outputs": [],
   "source": []
  },
  {
   "cell_type": "markdown",
   "metadata": {},
   "source": [
    "#### 4.3 Interpretation of the results:"
   ]
  },
  {
   "cell_type": "code",
   "execution_count": null,
   "metadata": {},
   "outputs": [],
   "source": []
  },
  {
   "cell_type": "markdown",
   "metadata": {},
   "source": [
    "#### 4.3.1 Do you observe a decrease in the performance? If so, what is the cause?"
   ]
  },
  {
   "cell_type": "code",
   "execution_count": null,
   "metadata": {},
   "outputs": [],
   "source": []
  },
  {
   "cell_type": "markdown",
   "metadata": {},
   "source": [
    "#### 4.3.2 Which of the two models performs better? Why?"
   ]
  },
  {
   "cell_type": "code",
   "execution_count": null,
   "metadata": {},
   "outputs": [],
   "source": []
  }
 ],
 "metadata": {
  "kernelspec": {
   "display_name": "TPM34A",
   "language": "python",
   "name": "python3"
  },
  "language_info": {
   "codemirror_mode": {
    "name": "ipython",
    "version": 3
   },
   "file_extension": ".py",
   "mimetype": "text/x-python",
   "name": "python",
   "nbconvert_exporter": "python",
   "pygments_lexer": "ipython3",
   "version": "3.9.6"
  }
 },
 "nbformat": 4,
 "nbformat_minor": 2
}

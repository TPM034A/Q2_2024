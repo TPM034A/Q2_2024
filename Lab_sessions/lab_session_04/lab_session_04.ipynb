{
 "cells": [
  {
   "cell_type": "markdown",
   "id": "48b5223bd9a692a5",
   "metadata": {
    "collapsed": false,
    "editable": true,
    "jupyter": {
     "outputs_hidden": false
    },
    "slideshow": {
     "slide_type": ""
    },
    "tags": []
   },
   "source": [
    "# TPM034A Machine Learning for socio-technical systems \n",
    "## `Lab session 04:  Explainable AI and energy prediction`\n",
    "\n",
    "**Delft University of Technology**<br>\n",
    "**Q2 2024**<br>\n",
    "**Instructor:** Giacomo Marangoni <br>\n",
    "**TAs:**  Francisco Garrido Valenzuela & Lucas Spierenburg <br>\n",
    "\n",
    "### `Instructions`\n",
    "\n",
    "**Lab sessions aim to:**<br>\n",
    "* Show and reinforce how models and ideas presented in class are used in practice.<br>\n",
    "* Help you gather hands-on machine learning skills.<br>\n",
    "\n",
    "**Lab sessions are:**<br>\n",
    "* Learning environments where you work with Jupyter notebooks and where you can get support from TAs and fellow students.<br> \n",
    "* Not graded and do not have to be submitted. \n",
    "### `Use of AI tools`\n",
    "AI tools, such as ChatGPT and Co-pilot, are great tools to assist with programming. Moreover, in your later careers you will work in a world where such tools are widely available. As such, we **encourage** you to use AI tools **effectively** (both in the lab sessions and assignments). However, be careful not to overestimate the capacity of AI tools! AI tools cannot replace you: you still have to conceptualise the problem, dissect it and structure it, to conduct proper analysis and modelling. We recommend being especially **reticent** with using AI tools for the more conceptual and reflective oriented questions. \n",
    "### `Google Colab workspace set-up`\n",
    "\n",
    "Uncomment the following cells code lines if you are running this notebook on Colab"
   ]
  },
  {
   "cell_type": "code",
   "execution_count": null,
   "id": "1ff8c486eeaca7d",
   "metadata": {
    "collapsed": false,
    "editable": true,
    "jupyter": {
     "outputs_hidden": false
    },
    "slideshow": {
     "slide_type": ""
    },
    "tags": []
   },
   "outputs": [],
   "source": [
    "#!git clone https://github.com/TPM034A/Q2_2024\n",
    "#!pip install -r Q2_2024/requirements_colab.txt\n",
    "#!mv \"/content/Q2_2024/Lab_sessions/lab_session_04/data\" /content/data"
   ]
  },
  {
   "cell_type": "markdown",
   "id": "c9a5be8a61e3d469",
   "metadata": {
    "collapsed": false,
    "editable": true,
    "jupyter": {
     "outputs_hidden": false
    },
    "slideshow": {
     "slide_type": ""
    },
    "tags": []
   },
   "source": [
    "### `Application: Explaining the prediction of the next 24-hour electricity load` <br>\n",
    "\n",
    "#### **Introduction**\n",
    "In this lab session we will train a Linear regression (LR) and a Random forest regressor (RF) to predict the **next 24-hour electricity load** of a household. We will then use the tools of Explainable AI, in particular PDP, LIME and SHAP, to better understand how specific prediction are influenced by different features.\n",
    "\n",
    "#### **Data**\n",
    "\n",
    "1. `data/load.pkl`: A pickle file with a pandas.DataFrame of overall Wh hourly energy consumption of a household from the REFIT Electrical Load Measurements dataset, collected over a period of about two years.\n",
    "2. `data/devices.pkl`: A pickle file with a pandas.DataFrame of normalized weather variables: `dwpt` is Dew Point (related to moisture), `rhum` is relative humidity, `temp` is temperature, `wdir` is wind direction, `wspd` is wind speed.\n"
   ]
  },
  {
   "cell_type": "markdown",
   "id": "b8349dbf-9bf3-4b87-bf80-9c7ad0ed7175",
   "metadata": {
    "editable": true,
    "slideshow": {
     "slide_type": ""
    },
    "tags": [
     "hide"
    ]
   },
   "source": [
    "### Preparation"
   ]
  },
  {
   "cell_type": "code",
   "execution_count": null,
   "id": "4cc95f18-f146-49d6-92a3-c95bc690c0c1",
   "metadata": {
    "collapsed": false,
    "editable": true,
    "jupyter": {
     "outputs_hidden": false
    },
    "slideshow": {
     "slide_type": ""
    },
    "tags": [
     "hide"
    ]
   },
   "outputs": [],
   "source": [
    "import pandas as pd\n",
    "\n",
    "if False:\n",
    "    load_df_orig = pd.read_pickle('original_data/load_df.pkl')\n",
    "    load_df_orig.head()\n",
    "    \n",
    "    load_df['load'].to_pickle('data/load.pkl')\n",
    "    \n",
    "    load_df[['temp', 'dwpt', 'rhum', 'wdir', 'wspd']].to_pickle('data/weather.pkl')\n",
    "    \n",
    "    load_df = pd.read_pickle('original_data/load_df.pkl')\n",
    "    load_df.head()\n",
    "    \n",
    "    load_df['Aggregate'].rename('load').to_pickle('data/load.pkl')\n",
    "    \n",
    "    prices_df = pd.read_pickle('original_data/price_df.pkl')\n",
    "    prices_df.rename('price').to_pickle('../../Assignments/assignment_04/data/price.pkl')\n",
    "    \n",
    "    load_df = pd.read_pickle('original_data/load_df.pkl')\n",
    "    load_df.columns\n",
    "    \n",
    "    devices = ['Toaster', 'Fridge-Freezer', 'Freezer',\n",
    "           'Tumble Dryer', 'Dishwasher', 'Washing Machine', 'Television',\n",
    "           'Microwave', 'Kettle']\n",
    "    #load_df[devices] = (load_df[devices] > 1).astype(int)\n",
    "    load_df['Load'] = load_df['Aggregate']\n",
    "    load_df.head()\n",
    "    load_df['Load'].to_pickle('../../Assignments/assignment_04/data/load.pkl')\n",
    "    load_df[devices].to_pickle('../../Assignments/assignment_04/data/devices.pkl')\n",
    "    load_df[['dwpt', \t'rhum', \t'temp', \t'wdir', \t'wspd']].to_pickle('../../Assignments/assignment_04/data/weather.pkl')\n",
    "    \n",
    "    load_df[['Aggregate', 'Toaster', 'Fridge-Freezer', 'Freezer',\n",
    "           'Tumble Dryer', 'Dishwasher', 'Washing Machine', 'Television',\n",
    "           'Microwave', 'Kettle']].to_pickle('../../Assignments/assignment_04/data/devices.pkl')"
   ]
  },
  {
   "cell_type": "markdown",
   "id": "f12d5dac-4b7c-48e4-9fcc-dff6613ef120",
   "metadata": {
    "editable": true,
    "slideshow": {
     "slide_type": ""
    },
    "tags": []
   },
   "source": [
    "### Load and preprocess the datasets"
   ]
  },
  {
   "cell_type": "code",
   "execution_count": null,
   "id": "f98c483f-3eb5-4cd3-8cb4-20fa46efa297",
   "metadata": {
    "editable": true,
    "slideshow": {
     "slide_type": ""
    },
    "tags": []
   },
   "outputs": [],
   "source": [
    "# Use pd.read_pickle to load 'data/load.pkl'\n",
    "\n",
    "# Check that you get a similar pd.Series:\n",
    "# Time\n",
    "# 2013-09-25 19:00:00    410.766578\n",
    "# 2013-09-25 20:00:00    417.421053\n",
    "# 2013-09-25 21:00:00    508.165821\n",
    "# ..."
   ]
  },
  {
   "cell_type": "code",
   "execution_count": null,
   "id": "83b42517-f2c7-4bff-a46d-2acfac40d2ff",
   "metadata": {
    "editable": true,
    "slideshow": {
     "slide_type": ""
    },
    "tags": [
     "ans"
    ]
   },
   "outputs": [],
   "source": [
    "import pandas as pd\n",
    "load = pd.read_pickle('data/load.pkl')\n",
    "load.head()"
   ]
  },
  {
   "cell_type": "code",
   "execution_count": null,
   "id": "17bf016f-52aa-4024-98fd-0cf348a64c85",
   "metadata": {
    "editable": true,
    "slideshow": {
     "slide_type": ""
    },
    "tags": []
   },
   "outputs": [],
   "source": [
    "# How many observations does the dataset have? What is the overall time range?"
   ]
  },
  {
   "cell_type": "code",
   "execution_count": null,
   "id": "6131648e-7ddf-499b-94f0-2ef7aacce21a",
   "metadata": {
    "editable": true,
    "slideshow": {
     "slide_type": ""
    },
    "tags": [
     "ans"
    ]
   },
   "outputs": [],
   "source": [
    "load.sort_index(inplace=True)\n",
    "load.index[[0,-1]]\n",
    "# or\n",
    "load.index.to_series().describe()"
   ]
  },
  {
   "cell_type": "code",
   "execution_count": null,
   "id": "68ff7403-e5d3-4156-9752-e619100ac9cd",
   "metadata": {
    "editable": true,
    "slideshow": {
     "slide_type": ""
    },
    "tags": []
   },
   "outputs": [],
   "source": [
    "# Use pd.read_pickle to load 'data/weather.pkl'\n",
    "\n",
    "# Check that you have a pd.DataFrame with columns\n",
    "# ['temp', 'dwpt', 'rhum', 'wdir', 'wspd']\n",
    "# and index equal to the load index"
   ]
  },
  {
   "cell_type": "code",
   "execution_count": null,
   "id": "03b38e3c-fda1-43f7-8cec-871825bb0c0a",
   "metadata": {
    "editable": true,
    "slideshow": {
     "slide_type": ""
    },
    "tags": [
     "ans"
    ]
   },
   "outputs": [],
   "source": [
    "weather = pd.read_pickle('data/weather.pkl')\n",
    "weather.head()"
   ]
  },
  {
   "cell_type": "code",
   "execution_count": null,
   "id": "680d946c-e183-47f1-96c9-b08078fe592d",
   "metadata": {
    "editable": true,
    "slideshow": {
     "slide_type": ""
    },
    "tags": []
   },
   "outputs": [],
   "source": [
    "# Add an \"hour\" column to the load df, corresponding to the integer hour of the index\n",
    "# e.g. 2013-09-25 19:00:00 --> 19\n",
    "# Hint: convert index into a pd.Series and use the .hour accessor"
   ]
  },
  {
   "cell_type": "code",
   "execution_count": null,
   "id": "add63b88-0d12-4d3a-8b7a-6956475a00f2",
   "metadata": {
    "editable": true,
    "slideshow": {
     "slide_type": ""
    },
    "tags": [
     "ans"
    ]
   },
   "outputs": [],
   "source": [
    "load_df = load.to_frame()\n",
    "load_df['hour'] = load_df.index.hour\n",
    "load_df.head()"
   ]
  },
  {
   "cell_type": "code",
   "execution_count": null,
   "id": "778193a6-2aaa-4fbf-8ec3-0c7c02f48895",
   "metadata": {
    "editable": true,
    "slideshow": {
     "slide_type": ""
    },
    "tags": []
   },
   "outputs": [],
   "source": [
    "# Add 3 columns to the load df\n",
    "# load_lag_24, load_lag_48 and load_lag_72\n",
    "# corresponding to the value of load 24, 48 and 72 hourse before, respectively\n",
    "# Hint: use the .shift function\n",
    "\n",
    "# check as example the first five 21:00 samples to make sure you computed the lags correctly"
   ]
  },
  {
   "cell_type": "code",
   "execution_count": null,
   "id": "411fe469-9bac-4ab6-80cf-f4a18ab766f8",
   "metadata": {
    "editable": true,
    "slideshow": {
     "slide_type": ""
    },
    "tags": [
     "ans"
    ]
   },
   "outputs": [],
   "source": [
    "for x in [24, 48, 72]:\n",
    "    load_df[f'load_lag_{x}'] = load_df['load'].shift(x)\n",
    "load_df[load_df.hour == 21].head(5)"
   ]
  },
  {
   "cell_type": "code",
   "execution_count": null,
   "id": "e1e5b297-ab35-49f9-a7ad-3463d8f6d100",
   "metadata": {
    "editable": true,
    "slideshow": {
     "slide_type": ""
    },
    "tags": []
   },
   "outputs": [],
   "source": [
    "# Add 7 dummy columns, each one with value 0 or 1 for each day of the week of the corresponding index,\n",
    "# named \"day_name_monday\", \"day_name_tuesday\", ... , \"day_name_saturday\" (skipping Sunday)\n",
    "# Hint: use index.dayofweek and pd.get_dummies\n",
    "\n",
    "# check as example the first seven 21:00 samples to make sure you computed the day_name columns correctly"
   ]
  },
  {
   "cell_type": "code",
   "execution_count": null,
   "id": "2678992a-7d59-4fd0-a8f1-8f6d4c194151",
   "metadata": {
    "editable": true,
    "slideshow": {
     "slide_type": ""
    },
    "tags": [
     "ans"
    ]
   },
   "outputs": [],
   "source": [
    "import calendar\n",
    "day_name_list = [x.lower() for x in calendar.day_name]\n",
    "load_df2 = load_df.copy()\n",
    "load_df2['day_name'] = load_df2.index.dayofweek\n",
    "load_df2['day_name'] = load_df2['day_name'].replace(dict(zip(range(7), day_name_list)))\n",
    "load_df2 = pd.get_dummies(\n",
    "    load_df2,\n",
    "    prefix='day_name',\n",
    "    columns=['day_name'],\n",
    "    dtype=int\n",
    ").drop('day_name_sunday', axis=1)\n",
    "load_df2[load_df2.hour == 21].head(7)"
   ]
  },
  {
   "cell_type": "code",
   "execution_count": null,
   "id": "ad89a3dc-5ca9-4f2e-a2e5-0faee27e9ee6",
   "metadata": {
    "editable": true,
    "slideshow": {
     "slide_type": ""
    },
    "tags": []
   },
   "outputs": [],
   "source": [
    "# Merge the weather and the load df\n",
    "# Hint: use df.join"
   ]
  },
  {
   "cell_type": "code",
   "execution_count": null,
   "id": "334a4b54-fbde-4578-8ed5-4e3e7a8b2832",
   "metadata": {
    "editable": true,
    "slideshow": {
     "slide_type": ""
    },
    "tags": [
     "ans"
    ]
   },
   "outputs": [],
   "source": [
    "load_df3 = load_df2.join(weather)\n",
    "load_df3.head()"
   ]
  },
  {
   "cell_type": "code",
   "execution_count": null,
   "id": "3f35ef8f-d823-465e-9c1c-c927e45b2c77",
   "metadata": {
    "editable": true,
    "slideshow": {
     "slide_type": ""
    },
    "tags": []
   },
   "outputs": [],
   "source": [
    "# Plot the load of a single day, e.g. 2013-12-12\n",
    "# Does the shape make sense?"
   ]
  },
  {
   "cell_type": "code",
   "execution_count": null,
   "id": "0d01229f-5a63-476e-9459-acdd41b85e42",
   "metadata": {
    "editable": true,
    "slideshow": {
     "slide_type": ""
    },
    "tags": [
     "ans"
    ]
   },
   "outputs": [],
   "source": [
    "# Peaks possibly at breakfast, pre and post dinner\n",
    "load_df3.loc['2013-12-12','load'].plot()"
   ]
  },
  {
   "cell_type": "code",
   "execution_count": null,
   "id": "995ca6b7-16b8-4bb4-975f-e7d9b8bbb87d",
   "metadata": {
    "editable": true,
    "slideshow": {
     "slide_type": ""
    },
    "tags": []
   },
   "outputs": [],
   "source": [
    "# Plot the average and confidence interval of hourly load for weekdays vs weekends from '2013-11-01' onwards\n",
    "# Hint: use seaborn.lineplot\n",
    "# Do you observe any difference?"
   ]
  },
  {
   "cell_type": "code",
   "execution_count": null,
   "id": "6ece4bca-d4e5-4aab-9f38-ff642a106696",
   "metadata": {
    "editable": true,
    "slideshow": {
     "slide_type": ""
    },
    "tags": [
     "ans"
    ]
   },
   "outputs": [],
   "source": [
    "# During weekdays higher morning / evening peaks, possibly following classic workday routine.\n",
    "import seaborn as sb\n",
    "load_df3b = load_df3.copy()\n",
    "load_df3b['weekday'] = (load_df3b.index.dayofweek <= 4)\n",
    "sb.lineplot(x='hour', y='load', hue='weekday', errorbar=('ci', 90), n_boot=200, data=load_df3b.loc['2013-11-01':])"
   ]
  },
  {
   "cell_type": "code",
   "execution_count": null,
   "id": "43c77bbc-974c-4d49-8074-3e7724a63cc9",
   "metadata": {
    "editable": true,
    "slideshow": {
     "slide_type": ""
    },
    "tags": []
   },
   "outputs": [],
   "source": [
    "# Add dummies \"hour_1\", \"hour_2\", ... \"hour_23\" (skipping \"hour_0\"), equal to 1 for the corresponding index hour\n",
    "# Hint: use pd.get_dummies"
   ]
  },
  {
   "cell_type": "code",
   "execution_count": null,
   "id": "3abc8986-0ab2-470c-893d-0649338739c6",
   "metadata": {
    "editable": true,
    "slideshow": {
     "slide_type": ""
    },
    "tags": [
     "ans"
    ]
   },
   "outputs": [],
   "source": [
    "load_df4 = pd.get_dummies(\n",
    "    load_df3,\n",
    "    prefix='hour',\n",
    "    columns=['hour'],\n",
    "    dtype=int\n",
    ").drop('hour_0', axis=1)"
   ]
  },
  {
   "cell_type": "markdown",
   "id": "a58960fd-d371-45cd-8d5b-3b143d34aeb5",
   "metadata": {
    "editable": true,
    "slideshow": {
     "slide_type": ""
    },
    "tags": []
   },
   "source": [
    "### Train a linear regression model"
   ]
  },
  {
   "cell_type": "code",
   "execution_count": null,
   "id": "75816400-9e1c-4db9-9017-cb6062c66889",
   "metadata": {
    "editable": true,
    "slideshow": {
     "slide_type": ""
    },
    "tags": []
   },
   "outputs": [],
   "source": [
    "# Train a linear regression model to predict load of 2014-12-12 based on features computed above.\n",
    "# Use the period 2013-11-01 to 2014-12-11 for training."
   ]
  },
  {
   "cell_type": "code",
   "execution_count": null,
   "id": "230ae3cc-a6b0-49be-b71e-45aa1821dc91",
   "metadata": {
    "editable": true,
    "slideshow": {
     "slide_type": ""
    },
    "tags": [
     "ans"
    ]
   },
   "outputs": [],
   "source": [
    "load_df5 = load_df4.dropna()\n",
    "X_train_lr = load_df5.loc['2013-11-01':'2014-12-11', load_df5.columns != 'load']\n",
    "y_train_lr = load_df5.loc['2013-11-01':'2014-12-11', 'load']\n",
    "X_test_lr = load_df5.loc['2014-12-12', load_df5.columns != 'load']\n",
    "y_test_lr = load_df5.loc['2014-12-12', 'load']\n",
    "X_train_lr.head()"
   ]
  },
  {
   "cell_type": "code",
   "execution_count": null,
   "id": "2e349fec-fa4b-408c-9325-f43aef5d6b18",
   "metadata": {
    "editable": true,
    "slideshow": {
     "slide_type": ""
    },
    "tags": [
     "ans"
    ]
   },
   "outputs": [],
   "source": [
    "from sklearn.linear_model import LinearRegression\n",
    "import numpy as np\n",
    "model_lr = LinearRegression().fit(X_train_lr, y_train_lr)"
   ]
  },
  {
   "cell_type": "code",
   "execution_count": null,
   "id": "bb94a9d5-ba77-47f5-828e-0d6473aa59ef",
   "metadata": {
    "editable": true,
    "slideshow": {
     "slide_type": ""
    },
    "tags": []
   },
   "outputs": [],
   "source": [
    "# Compute the root mean squared error"
   ]
  },
  {
   "cell_type": "code",
   "execution_count": null,
   "id": "1bfe3b0c-4751-479e-bc41-ff52ffcaaefb",
   "metadata": {
    "editable": true,
    "slideshow": {
     "slide_type": ""
    },
    "tags": [
     "ans"
    ]
   },
   "outputs": [],
   "source": [
    "from sklearn.metrics import mean_squared_error\n",
    "import matplotlib.pyplot as plt\n",
    "y_pred_lr = model_lr.predict(X_test_lr)\n",
    "mse_lr = mean_squared_error(y_test_lr, y_pred_lr)\n",
    "rmse_lr = np.sqrt(mse_lr)\n",
    "print(rmse_lr)"
   ]
  },
  {
   "cell_type": "markdown",
   "id": "1bf213b4-6489-4ba6-9323-4653788408e7",
   "metadata": {},
   "source": [
    "### Explain a LR model with LIME"
   ]
  },
  {
   "cell_type": "code",
   "execution_count": null,
   "id": "6c20ff3e-e93b-4b20-8cec-ffbb6d93daf0",
   "metadata": {},
   "outputs": [],
   "source": [
    "# Compute the indices of the variables that are categorical"
   ]
  },
  {
   "cell_type": "code",
   "execution_count": null,
   "id": "9f7fc1a2-d474-4b0e-ae77-8b3bf87bc732",
   "metadata": {},
   "outputs": [],
   "source": [
    "categorical_prefixes = [\"day_name\", \"hour_\"]\n",
    "categorical_indices_lr = [\n",
    "    i for i, key in enumerate(X_train_lr.columns) \n",
    "    if any(key.startswith(prefix) for prefix in categorical_prefixes)\n",
    "]\n",
    "print(categorical_indices_lr)"
   ]
  },
  {
   "cell_type": "code",
   "execution_count": null,
   "id": "c8e8b451-0f49-423e-837b-e9e7e7f5066b",
   "metadata": {},
   "outputs": [],
   "source": [
    "# Provide a LIME explanation of the prediction for day 2013-12-05 at 12:00.\n",
    "# Consider the train dataset.\n",
    "# What features drive the explanation?\n",
    "# Hint: Use LimeTabularExplainer from lime.lime_tabular"
   ]
  },
  {
   "cell_type": "code",
   "execution_count": null,
   "id": "926cb268-8422-4644-89b2-3bc5a3d6f700",
   "metadata": {},
   "outputs": [],
   "source": [
    "from lime import lime_tabular\n",
    "\n",
    "lime_explainer = lime_tabular.LimeTabularExplainer(\n",
    "    training_data=X_train_lr.values,\n",
    "    feature_names=X_train_lr.columns,\n",
    "    categorical_features=categorical_indices_lr,\n",
    "    mode='regression'\n",
    ")\n",
    "\n",
    "instance_to_explain = X_train_lr.loc['2013-12-05 12:00'].values\n",
    "explanation = lime_explainer.explain_instance(\n",
    "    data_row=instance_to_explain,\n",
    "    predict_fn=model_lr.predict,\n",
    ")\n",
    "\n",
    "explanation.show_in_notebook()"
   ]
  },
  {
   "cell_type": "code",
   "execution_count": null,
   "id": "4986f405-b1d8-41b3-9696-9cd0621a0956",
   "metadata": {},
   "outputs": [],
   "source": [
    "# Compare the explanation with the model coefficients"
   ]
  },
  {
   "cell_type": "code",
   "execution_count": null,
   "id": "cec31c3d-c184-4255-a41c-c87864d48e87",
   "metadata": {},
   "outputs": [],
   "source": [
    "(pd.Series(model_lr.coef_, index=X_train_lr.columns)\n",
    " .abs()\n",
    " .sort_values(ascending=False)\n",
    " .head())"
   ]
  },
  {
   "cell_type": "code",
   "execution_count": null,
   "id": "e837eb76-9d18-40b2-baa6-ab133b12b6c8",
   "metadata": {},
   "outputs": [],
   "source": [
    "# What was the actual consumption value for that hour?"
   ]
  },
  {
   "cell_type": "code",
   "execution_count": null,
   "id": "cf65f6b6-bba4-4f4e-a3a1-138c24d9c44e",
   "metadata": {},
   "outputs": [],
   "source": [
    "y_train_lr.loc['2013-12-05 12:00']"
   ]
  },
  {
   "cell_type": "markdown",
   "id": "27d1351a-682b-4e3e-9e7b-80944e895e32",
   "metadata": {
    "editable": true,
    "slideshow": {
     "slide_type": ""
    },
    "tags": []
   },
   "source": [
    "### Explain a LR model with SHAP"
   ]
  },
  {
   "cell_type": "code",
   "execution_count": null,
   "id": "d58e8f71-a4d2-4843-aefe-bd5a05975f47",
   "metadata": {
    "editable": true,
    "slideshow": {
     "slide_type": ""
    },
    "tags": []
   },
   "outputs": [],
   "source": [
    "# Compute SHAP values for the train dataset.\n",
    "# Hint: use shap.LinearExplainer and shap.sample as background data matrix"
   ]
  },
  {
   "cell_type": "code",
   "execution_count": null,
   "id": "3a149643-3474-482b-b510-45d0a88bc7e2",
   "metadata": {
    "editable": true,
    "slideshow": {
     "slide_type": ""
    },
    "tags": [
     "ans"
    ]
   },
   "outputs": [],
   "source": [
    "import shap\n",
    "X100_lr = shap.sample(X_train_lr, 1000)\n",
    "explainer_lr = shap.LinearExplainer(model_lr, X100_lr)\n",
    "shap_values_lr = explainer_lr(X_train_lr)"
   ]
  },
  {
   "cell_type": "code",
   "execution_count": null,
   "id": "edd40223-488b-4615-8bef-a6803afdc352",
   "metadata": {},
   "outputs": [],
   "source": [
    "# Explain the prediction for day 2013-12-05 at 12:00"
   ]
  },
  {
   "cell_type": "code",
   "execution_count": null,
   "id": "fd36ab97-8ac7-40a5-8181-3437c7c77cae",
   "metadata": {},
   "outputs": [],
   "source": [
    "shap_values_lr.shape"
   ]
  },
  {
   "cell_type": "code",
   "execution_count": null,
   "id": "a24f962c-19ab-40b9-abd2-0d9badbc4e61",
   "metadata": {},
   "outputs": [],
   "source": [
    "idx2explain_lr = y_train_lr.index.get_loc('2013-12-05 12:00')\n",
    "idx2explain_lr"
   ]
  },
  {
   "cell_type": "code",
   "execution_count": null,
   "id": "e7bb3bcc-e79b-4f7e-b9c8-f3d4398a8714",
   "metadata": {},
   "outputs": [],
   "source": [
    "shap.plots.waterfall(shap_values_lr[idx2explain_lr])"
   ]
  },
  {
   "cell_type": "code",
   "execution_count": null,
   "id": "76ba6da7-0350-4f2c-85aa-bc23daa5f473",
   "metadata": {},
   "outputs": [],
   "source": [
    "# Agreement on + impact of hour12 and to a less extent - impact of non-peak hours\n",
    "# Disagreement on importance of lags\n",
    "# Difference in how background data distribution and use or not of perturbed local model"
   ]
  },
  {
   "cell_type": "markdown",
   "id": "2dbdbd2c-33cf-48a8-95c2-5c29214942a7",
   "metadata": {
    "editable": true,
    "slideshow": {
     "slide_type": ""
    },
    "tags": []
   },
   "source": [
    "### Train a Random Forest Regressor"
   ]
  },
  {
   "cell_type": "code",
   "execution_count": null,
   "id": "75a53f4e-6581-487f-82e6-ada0d010222a",
   "metadata": {
    "editable": true,
    "slideshow": {
     "slide_type": ""
    },
    "tags": []
   },
   "outputs": [],
   "source": [
    "# Train a random forest regressor model to predict load of 2014-12-12.\n",
    "# Use the period 2013-11-01 to 2014-12-11 for training.\n",
    "# Do not use the dummies computed above. Use the following features instead:\n",
    "# ['hour', 'load_lag_24', 'load_lag_48', 'load_lag_72', 'temp',\n",
    "#    'dwpt', 'rhum', 'wdir', 'wspd', 'weekday']\n",
    "# where hour and weekday are int"
   ]
  },
  {
   "cell_type": "code",
   "execution_count": null,
   "id": "d318ec12-2ad9-4bab-bb81-c7f90481698a",
   "metadata": {
    "editable": true,
    "slideshow": {
     "slide_type": ""
    },
    "tags": [
     "ans"
    ]
   },
   "outputs": [],
   "source": [
    "from sklearn.ensemble import RandomForestRegressor\n",
    "load_df6 = load_df.join(weather).dropna()\n",
    "load_df6['weekday'] = load_df6.index.dayofweek.astype(int)\n",
    "load_df6['hour'] = load_df6['hour'].astype(int)\n",
    "load_df6.head()"
   ]
  },
  {
   "cell_type": "code",
   "execution_count": null,
   "id": "5a5d73a4-6126-4b68-974f-25a1accc99f9",
   "metadata": {
    "editable": true,
    "slideshow": {
     "slide_type": ""
    },
    "tags": [
     "ans"
    ]
   },
   "outputs": [],
   "source": [
    "X_train_rf = load_df6.loc['2013-11-01':'2014-12-11', load_df6.columns != 'load']\n",
    "y_train_rf = load_df6.loc['2013-11-01':'2014-12-11', 'load']\n",
    "X_test_rf = load_df6.loc['2014-12-12', load_df6.columns != 'load']\n",
    "y_test_rf = load_df6.loc['2014-12-12', 'load']\n",
    "model_rf = RandomForestRegressor(random_state=0).fit(X_train_rf, y_train_rf)"
   ]
  },
  {
   "cell_type": "code",
   "execution_count": null,
   "id": "377cfca3-589c-497c-b790-cd60864b07c4",
   "metadata": {
    "editable": true,
    "slideshow": {
     "slide_type": ""
    },
    "tags": []
   },
   "outputs": [],
   "source": [
    "# What is the root mean squared error for the test set? Does the accuracy improve with respect to the linear model?"
   ]
  },
  {
   "cell_type": "code",
   "execution_count": null,
   "id": "3c5179c3-568a-43fe-95f6-252cc41be23d",
   "metadata": {
    "editable": true,
    "slideshow": {
     "slide_type": ""
    },
    "tags": [
     "ans"
    ]
   },
   "outputs": [],
   "source": [
    "# RF improves on the LR\n",
    "y_pred_rf = model_rf.predict(X_test_rf)\n",
    "mse_rf = mean_squared_error(y_test_rf, y_pred_rf)\n",
    "rmse_rf = np.sqrt(mse_rf)\n",
    "print(rmse_rf)"
   ]
  },
  {
   "cell_type": "markdown",
   "id": "e8f5ef6c-4d2a-47fa-b122-0ad10801b27d",
   "metadata": {},
   "source": [
    "### Explain a RF model with LIME"
   ]
  },
  {
   "cell_type": "code",
   "execution_count": null,
   "id": "42a9f270-7743-4fb7-a568-6e2f762a612e",
   "metadata": {},
   "outputs": [],
   "source": [
    "categorical_indices_rf = [\n",
    "    i for i, key in enumerate(X_train_rf.columns) \n",
    "    if key in ['hour', 'weekday']\n",
    "]\n",
    "print(categorical_indices_rf)"
   ]
  },
  {
   "cell_type": "code",
   "execution_count": null,
   "id": "e7d44334-f893-4f0f-b41f-291d876dcd37",
   "metadata": {},
   "outputs": [],
   "source": [
    "# Provide a LIME explanation of the prediction for test day 2014-12-12 at 20:00.\n",
    "# What features drive the explanation?\n",
    "# Hint: Use LimeTabularExplainer from lime.lime_tabular"
   ]
  },
  {
   "cell_type": "code",
   "execution_count": null,
   "id": "74a32a01-36a5-4c73-b35a-b32fa51b2bfa",
   "metadata": {},
   "outputs": [],
   "source": [
    "from lime import lime_tabular\n",
    "\n",
    "lime_explainer = lime_tabular.LimeTabularExplainer(\n",
    "    training_data=X_train_rf.values,\n",
    "    feature_names=X_train_rf.columns,\n",
    "    categorical_features=categorical_indices_rf,\n",
    "    mode='regression'\n",
    ")\n",
    "\n",
    "instance_to_explain = X_test_rf.loc['2014-12-12 20:00'].values\n",
    "explanation = lime_explainer.explain_instance(\n",
    "    data_row=instance_to_explain,\n",
    "    predict_fn=model_rf.predict,\n",
    ")\n",
    "\n",
    "explanation.show_in_notebook()"
   ]
  },
  {
   "cell_type": "markdown",
   "id": "516e7cdc-cd22-47d1-9174-3b94b95df6f1",
   "metadata": {
    "editable": true,
    "slideshow": {
     "slide_type": ""
    },
    "tags": []
   },
   "source": [
    "### Explain a RF model with PDP"
   ]
  },
  {
   "cell_type": "code",
   "execution_count": null,
   "id": "385bf453-b751-459c-8a3c-8021669dadb8",
   "metadata": {
    "editable": true,
    "slideshow": {
     "slide_type": ""
    },
    "tags": []
   },
   "outputs": [],
   "source": [
    "# What is the expected energy consumption knowing the weekday?\n",
    "# What is the weekday with the highest/lowest expected consumption?\n",
    "# \n",
    "# Hint: use shap.partial_dependence_plot"
   ]
  },
  {
   "cell_type": "code",
   "execution_count": null,
   "id": "61def17d-32a5-4337-8d0f-71ccf59445ef",
   "metadata": {
    "editable": true,
    "slideshow": {
     "slide_type": ""
    },
    "tags": [
     "ans"
    ]
   },
   "outputs": [],
   "source": [
    "fig, ax = shap.partial_dependence_plot(\n",
    "    \"weekday\",\n",
    "    model_rf.predict,\n",
    "    X_train_rf,\n",
    "    model_expected_value=True,\n",
    "    feature_expected_value=True,\n",
    "    show=False,\n",
    "    ice=False,\n",
    ")"
   ]
  },
  {
   "cell_type": "code",
   "execution_count": null,
   "id": "5680b4e0-d235-4c6d-9802-7389fa54c267",
   "metadata": {
    "editable": true,
    "slideshow": {
     "slide_type": ""
    },
    "tags": []
   },
   "outputs": [],
   "source": [
    "# Compare with the mean load of the train set grouped by weekday: are they different? If so, why?"
   ]
  },
  {
   "cell_type": "code",
   "execution_count": null,
   "id": "0ace1b0c-a129-4310-a761-e434d4d4a651",
   "metadata": {
    "editable": true,
    "slideshow": {
     "slide_type": ""
    },
    "tags": [
     "ans"
    ]
   },
   "outputs": [],
   "source": [
    "# The numbers are aligned but different. \n",
    "# The PDP considers the individual impact of weekday all other features being equal,\n",
    "# and reflects the importance that the model attributes to weekday.\n",
    "# The groupby mean is a descriptive statistics of the training data.\n",
    "y_train_rf.groupby(y_train_rf.index.weekday).mean()"
   ]
  },
  {
   "cell_type": "code",
   "execution_count": null,
   "id": "1cd20562-a765-43f7-ab8b-fab157fd73a8",
   "metadata": {
    "editable": true,
    "slideshow": {
     "slide_type": ""
    },
    "tags": []
   },
   "outputs": [],
   "source": [
    "# What is the expected energy consumption knowing the hour? What about temperature? Does the model behavior make sense?"
   ]
  },
  {
   "cell_type": "code",
   "execution_count": null,
   "id": "8c61fa9d-20d9-44ee-922b-93172cc4317d",
   "metadata": {
    "editable": true,
    "slideshow": {
     "slide_type": ""
    },
    "tags": [
     "ans"
    ]
   },
   "outputs": [],
   "source": [
    "# Hour: classic double peak, likely at breakfast and dinner\n",
    "fig, ax = shap.partial_dependence_plot(\n",
    "    \"hour\",\n",
    "    model_rf.predict,\n",
    "    X_train_rf,\n",
    "    model_expected_value=True,\n",
    "    feature_expected_value=True,\n",
    "    show=False,\n",
    "    ice=False,\n",
    ")"
   ]
  },
  {
   "cell_type": "code",
   "execution_count": null,
   "id": "728aea03-ca53-41ba-a761-62585e5111ad",
   "metadata": {
    "editable": true,
    "slideshow": {
     "slide_type": ""
    },
    "tags": [
     "ans"
    ]
   },
   "outputs": [],
   "source": [
    "# Temperature: classic U-shape, people more likely to stay home for low/high temps\n",
    "fig, ax = shap.partial_dependence_plot(\n",
    "    \"temp\",\n",
    "    model_rf.predict,\n",
    "    X_train_rf,\n",
    "    model_expected_value=True,\n",
    "    feature_expected_value=True,\n",
    "    show=False,\n",
    "    ice=False,\n",
    ")"
   ]
  },
  {
   "cell_type": "markdown",
   "id": "a429388f-1e32-4052-8930-e2905bb9e6b5",
   "metadata": {},
   "source": [
    "### Explain a RF model with SHAP"
   ]
  },
  {
   "cell_type": "code",
   "execution_count": null,
   "id": "b5069a14-1e46-4cda-8246-38cbca71282a",
   "metadata": {
    "editable": true,
    "slideshow": {
     "slide_type": ""
    },
    "tags": []
   },
   "outputs": [],
   "source": [
    "# Plot the SHAP values of each feature for each of the TEST samples.\n",
    "# Hint: use shap.TreeExplainer and shap.plots.beeswarm"
   ]
  },
  {
   "cell_type": "code",
   "execution_count": null,
   "id": "c95199fe-70f5-417b-8d53-978bc00e8963",
   "metadata": {
    "editable": true,
    "slideshow": {
     "slide_type": ""
    },
    "tags": [
     "ans"
    ]
   },
   "outputs": [],
   "source": [
    "X100 = shap.sample(X_train_rf, 100, random_state=0)\n",
    "explainer_rf = shap.TreeExplainer(model_rf, X100)\n",
    "shap_values_rf = explainer_rf(X_test_rf)"
   ]
  },
  {
   "cell_type": "code",
   "execution_count": null,
   "id": "ffc1ba35-5d4b-4ca5-9e69-9e868ab9a37c",
   "metadata": {
    "editable": true,
    "slideshow": {
     "slide_type": ""
    },
    "tags": [
     "ans"
    ]
   },
   "outputs": [],
   "source": [
    "shap.plots.beeswarm(shap_values_rf)"
   ]
  },
  {
   "cell_type": "code",
   "execution_count": null,
   "id": "f08558aa-744a-4ea1-b0b9-bf2f01546252",
   "metadata": {
    "editable": true,
    "slideshow": {
     "slide_type": ""
    },
    "tags": []
   },
   "outputs": [],
   "source": [
    "# What is the most predictive feature? What is the least predictive? How do you interpret it?\n",
    "# Hint: use shap.plots.bar"
   ]
  },
  {
   "cell_type": "code",
   "execution_count": null,
   "id": "945fdf7a-cff9-4966-9ae1-07ffb12645e1",
   "metadata": {
    "editable": true,
    "slideshow": {
     "slide_type": ""
    },
    "tags": [
     "ans"
    ]
   },
   "outputs": [],
   "source": [
    "# Most predictive:\n",
    "shap.plots.bar(shap_values_rf)"
   ]
  },
  {
   "cell_type": "code",
   "execution_count": null,
   "id": "7df62fad-3079-4efb-a05d-5cb1fb53ad30",
   "metadata": {
    "editable": true,
    "slideshow": {
     "slide_type": ""
    },
    "tags": []
   },
   "outputs": [],
   "source": [
    "# Explain the 15:00 and 20:00 prediction of the test. What observations can you make? How does the 20:00 explanation compare to LIME one above?\n",
    "# Hint: use shap.plots.waterfall"
   ]
  },
  {
   "cell_type": "code",
   "execution_count": null,
   "id": "4e9cd548-31a7-4547-8aa6-ea356b7913a8",
   "metadata": {
    "editable": true,
    "slideshow": {
     "slide_type": ""
    },
    "tags": [
     "ans"
    ]
   },
   "outputs": [],
   "source": [
    "shap.plots.waterfall(shap_values_rf[15])"
   ]
  },
  {
   "cell_type": "code",
   "execution_count": null,
   "id": "dae7ed57-4660-45cd-a84f-66ec6970c33b",
   "metadata": {
    "editable": true,
    "slideshow": {
     "slide_type": ""
    },
    "tags": [
     "ans"
    ]
   },
   "outputs": [],
   "source": [
    "# In general, high autocorrelation (<->lag variables) and habit-driven (<->hour) consumption.\n",
    "# In the evening, less influence of weather variables and weekday.\n",
    "# Compared to LIME explanation above, hour and lags do matter more than other features in both tools, but less clear distinction of lags vs hours using local model.\n",
    "shap.plots.waterfall(shap_values_rf[20])"
   ]
  },
  {
   "cell_type": "markdown",
   "id": "ee3d9d65-e37d-48c1-820d-22d0f19b8682",
   "metadata": {
    "editable": true,
    "slideshow": {
     "slide_type": ""
    },
    "tags": []
   },
   "source": [
    "### Reflections"
   ]
  },
  {
   "cell_type": "code",
   "execution_count": null,
   "id": "abd5f6ef7574d57d",
   "metadata": {
    "collapsed": false,
    "editable": true,
    "jupyter": {
     "outputs_hidden": false
    },
    "slideshow": {
     "slide_type": ""
    },
    "tags": []
   },
   "outputs": [],
   "source": [
    "# Reflect on how the information above could be useful for environmental reasons."
   ]
  },
  {
   "cell_type": "code",
   "execution_count": null,
   "id": "1b5425c2-07a1-4880-91e3-e4b25a5d4a4f",
   "metadata": {
    "editable": true,
    "slideshow": {
     "slide_type": ""
    },
    "tags": [
     "ans"
    ]
   },
   "outputs": [],
   "source": [
    "# For the energy provider, better planning to cover peaks, and info to best design energy demand response.\n",
    "# For the consumer, better awareness of patterns of consumption, and incentive to shift load to align with renewables availability."
   ]
  }
 ],
 "metadata": {
  "kernelspec": {
   "display_name": "Python 3 (ipykernel)",
   "language": "python",
   "name": "python3"
  },
  "language_info": {
   "codemirror_mode": {
    "name": "ipython",
    "version": 3
   },
   "file_extension": ".py",
   "mimetype": "text/x-python",
   "name": "python",
   "nbconvert_exporter": "python",
   "pygments_lexer": "ipython3",
   "version": "3.11.9"
  }
 },
 "nbformat": 4,
 "nbformat_minor": 5
}

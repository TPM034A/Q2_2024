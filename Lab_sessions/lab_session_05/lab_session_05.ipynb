{
 "cells": [
  {
   "cell_type": "markdown",
   "id": "c8554b1f-32a7-4f64-a207-c731f28e5cb6",
   "metadata": {},
   "source": [
    "# TPM034A Machine Learning for socio-technical systems \n",
    "## `Lab session 05: Explainable AI of a classification model for appliance usage prediction`\n",
    "\n",
    "**Delft University of Technology**<br>\n",
    "**Q2 2024**<br>\n",
    "**Instructor:** Giacomo Marangoni <br>\n",
    "**TAs:**  Francisco Garrido-Valenzuela & Lucas Spierenburg <br>"
   ]
  },
  {
   "cell_type": "markdown",
   "id": "b0a8a7e9-255c-4bce-8565-cc73d26032c2",
   "metadata": {},
   "source": [
    "## `Instructions`\n",
    "\n",
    "**Lab sessions aim to:**<br>\n",
    "* Show and reinforce how models and ideas presented in class are used in practice.<br>\n",
    "* Help you gather hands-on machine learning skills.<br>\n",
    "\n",
    "**Lab sessions are:**<br>\n",
    "* Learning environments where you work with Jupyter notebooks and where you can get support from TAs and fellow students.<br> \n",
    "* Not graded and do not have to be submitted. "
   ]
  },
  {
   "cell_type": "markdown",
   "id": "8fe68344-3c61-4324-95d9-2b2df1cd103b",
   "metadata": {},
   "source": [
    "### `Use of AI tools`\n",
    "AI tools, such as ChatGPT and Co-pilot, are great tools to assist with programming. Moreover, in your later careers you will work in a world where such tools are widely available. As such, we **encourage** you to use AI tools **effectively** (both in the lab sessions and assignments). However, be careful not to overestimate the capacity of AI tools! AI tools cannot replace you: you still have to conceptualise the problem, dissect it and structure it, to conduct proper analysis and modelling. We recommend being especially **reticent** with using AI tools for the more conceptual and reflective oriented questions. "
   ]
  },
  {
   "cell_type": "markdown",
   "id": "1e13b7ee-aa10-4983-9990-16d2e2be14cf",
   "metadata": {},
   "source": [
    "### `Google Colab workspace set-up`\n",
    "\n",
    "Uncomment the following cells code lines if you are running this notebook on Colab"
   ]
  },
  {
   "cell_type": "code",
   "execution_count": 1,
   "id": "70608053-e1ef-4a7b-923e-e3e9f7ea6cc7",
   "metadata": {},
   "outputs": [],
   "source": [
    "#!git clone https://github.com/TPM034A/Q2_2024\n",
    "#!pip install -r Q2_2024/requirements_colab.txt\n",
    "#!mv \"/content/Q2_2024/Lab_sessions/lab_session_05/data\" /content/data"
   ]
  },
  {
   "cell_type": "markdown",
   "id": "aaf264a1-3387-46d1-8c6a-a19012e383b9",
   "metadata": {
    "editable": true,
    "slideshow": {
     "slide_type": ""
    },
    "tags": []
   },
   "source": [
    "# `Application: Explainable AI of a classification model for appliance usage prediction` <br>\n",
    "\n",
    "#### **Introduction**\n",
    "\n",
    "In this notebook you are going to train and explain a Random Forest Classifier model to predict the probability of using a given appliance in the next 24 hours.\n",
    "\n",
    "#### **Data**\n",
    "\n",
    "1. `data/devices.pkl`: A pickle file with a pandas.DataFrame of Wh hourly energy consumption by appliance within a household of the REFIT dataset, over a period of about two years.\n",
    "2. `data/weather.pkl`: A pickle file with a pandas.DataFrame of normalized weather variables: `dwpt` is Dew Point (related to moisture), `rhum` is relative humidity, `temp` is temperature, `wdir` is wind direction, `wspd` is wind speed.\n",
    "3. `data/price.pkl`: A pickle file with a pandas.Series with electricity day-ahead prices in GBP/MWh.\n"
   ]
  },
  {
   "cell_type": "markdown",
   "id": "c6246350-2c9b-448a-a595-2658dcb484f6",
   "metadata": {
    "editable": true,
    "jp-MarkdownHeadingCollapsed": true,
    "slideshow": {
     "slide_type": ""
    },
    "tags": []
   },
   "source": [
    "**Learning objectives**. After completing the following exercises you will be able to: <br>\n",
    "\n",
    "- prepare and explore appliance-level smart meter data for training a ML model to predict whether an appliance will be used or not at a given hour;\n",
    "- use XAI tools to gain insights on usage behaviour;\n",
    "- reflect on practical and ethical implications."
   ]
  },
  {
   "cell_type": "markdown",
   "id": "e1a5b526-1c6a-4f19-b44d-e1631f564800",
   "metadata": {},
   "source": [
    "### Data preparation"
   ]
  },
  {
   "cell_type": "code",
   "execution_count": 5,
   "id": "8e134f35-f0fc-4aa1-adfe-092d44b2e201",
   "metadata": {},
   "outputs": [],
   "source": [
    "# Load 'data/devices.pkl', 'data/weather.pkl' and 'data/price.pkl'.\n",
    "# Weather is the same as in the lab session.\n",
    "# Devices contains Wh consumed by given devices at each timestamp.\n",
    "# Price contains electricity prices for each timestamp."
   ]
  },
  {
   "cell_type": "code",
   "execution_count": 7,
   "id": "22da5537-ebf4-4117-937d-93c400f2eda3",
   "metadata": {
    "editable": true,
    "slideshow": {
     "slide_type": ""
    },
    "tags": []
   },
   "outputs": [],
   "source": [
    "# Add a colum \"Load\" to devices as the sum of all appliances consumption"
   ]
  },
  {
   "cell_type": "code",
   "execution_count": 9,
   "id": "fcf36871-f5bd-4247-8599-54a2eb91ae1e",
   "metadata": {},
   "outputs": [],
   "source": [
    "# Merge all the datasets in one dataframe"
   ]
  },
  {
   "cell_type": "code",
   "execution_count": 11,
   "id": "8526b77f-a365-4f03-b14f-68bf7f477104",
   "metadata": {},
   "outputs": [],
   "source": [
    "# Consider zeros in temperature (\"temp\" column) as NAs, and interpolate the resulting missing values linearly"
   ]
  },
  {
   "cell_type": "markdown",
   "id": "69d812ef-04b7-4cfd-b9e4-e12502bfa00b",
   "metadata": {},
   "source": [
    "### Data exploration"
   ]
  },
  {
   "cell_type": "code",
   "execution_count": 13,
   "id": "d86bd351-9d1a-4672-b2eb-b40bc2c8de94",
   "metadata": {},
   "outputs": [],
   "source": [
    "# Plot NAs count per day over the whole time range. Are there any evident missing periods?\n",
    "\n",
    "# Hint: use isna(), groupby(), index.date and sum()"
   ]
  },
  {
   "cell_type": "code",
   "execution_count": 16,
   "id": "14c427ed-7eaf-44eb-947a-3d971d53cbd0",
   "metadata": {},
   "outputs": [],
   "source": [
    "# In 1 year, from 2014-03-10 to 2015-03-09, which appliance cumulatively consumed the most energy?"
   ]
  },
  {
   "cell_type": "code",
   "execution_count": 19,
   "id": "8abb8ff5-a9a3-44f2-b650-2fb3a9ef9f2a",
   "metadata": {},
   "outputs": [],
   "source": [
    "# Which appliance was turned on for the highest number of hours (i.e. consumption > 1Wh)?"
   ]
  },
  {
   "cell_type": "code",
   "execution_count": 21,
   "id": "d31375ea-e86e-4dfe-ace3-1567193affb3",
   "metadata": {},
   "outputs": [],
   "source": [
    "# Which appliance consumes per hour the highest?"
   ]
  },
  {
   "cell_type": "code",
   "execution_count": 20,
   "id": "21490412-748e-464f-873f-fd7b50deff2b",
   "metadata": {},
   "outputs": [],
   "source": [
    "# Plot the fraction of days (y-axis) in the given year by which each appliance (color) is used for each hour (x-axis)"
   ]
  },
  {
   "cell_type": "markdown",
   "id": "f6c012dd-8fc2-4bb1-a9ed-8ef5610711aa",
   "metadata": {},
   "source": [
    "### Model training"
   ]
  },
  {
   "cell_type": "code",
   "execution_count": 24,
   "id": "68d1eeea-320b-4f45-b38b-6ba89826dc4e",
   "metadata": {
    "editable": true,
    "slideshow": {
     "slide_type": ""
    },
    "tags": []
   },
   "outputs": [],
   "source": [
    "# Prepare train and test datasets with the following characteristics:\n",
    "# Train data period: from 2014-03-10 to 2015-03-09\n",
    "# Test data period: 2015-03-10\n",
    "# y feature: usage of television (i.e. consumption > 1)\n",
    "# X features:\n",
    "# - hour (int)\n",
    "# - weekday (int)\n",
    "# - weather variables\n",
    "# - usage 24h before (1 if television was used at the same hour the day before)\n",
    "# - activity 24h before (1 if any appliance was used at the same hour the day before)\n",
    "# - usage yesterday (1 if television was used at least 1 hour during the whole day before)\n",
    "# - price\n",
    "# Drop NAs\n",
    "\n",
    "# Hint for computing \"usage yesterday\": group usage by date, take the max, shift, then reindex to hourly using forward fill "
   ]
  },
  {
   "cell_type": "code",
   "execution_count": 24,
   "id": "4b09e0a4-e0e6-4f65-bb7c-50c087946e60",
   "metadata": {
    "editable": true,
    "slideshow": {
     "slide_type": ""
    },
    "tags": []
   },
   "outputs": [],
   "source": [
    "# Train a Random Forest Classifier according to the directions given above."
   ]
  },
  {
   "cell_type": "code",
   "execution_count": 27,
   "id": "d7c6c21a-7620-48bb-81cf-1e466ab032da",
   "metadata": {
    "editable": true,
    "slideshow": {
     "slide_type": ""
    },
    "tags": []
   },
   "outputs": [],
   "source": [
    "# Plot the test vs the predicted Usage"
   ]
  },
  {
   "cell_type": "markdown",
   "id": "c53614b5-b97b-4f56-827e-a422d567607f",
   "metadata": {},
   "source": [
    "### Model explanation"
   ]
  },
  {
   "cell_type": "code",
   "execution_count": 1,
   "id": "1f1b6c4a-e952-48a4-b414-56cf5dde1941",
   "metadata": {},
   "outputs": [],
   "source": [
    "# Use LIME to understand the prediction for 2015-03-10 (test day) at 14:00 and 20:00. What can you conclude?"
   ]
  },
  {
   "cell_type": "code",
   "execution_count": 103,
   "id": "65943936-9be1-43b6-97e6-f6adb7cd0138",
   "metadata": {
    "editable": true,
    "slideshow": {
     "slide_type": ""
    },
    "tags": []
   },
   "outputs": [],
   "source": [
    "# Compute the SHAP values for the 24 hours of the test dataset with a KernelExplainer.\n",
    "# Use a 100 sample of the train dataset as background dataset.\n",
    "# Slice the SHAP matrix returned by calling the explainer to get only values for classifying a positive prediction of television activity (class = 1)."
   ]
  },
  {
   "cell_type": "code",
   "execution_count": 73,
   "id": "65511bf0-80eb-4cee-bb7b-1c84661bbdab",
   "metadata": {},
   "outputs": [],
   "source": [
    "# Plot the SHAP values for each feature and test sample"
   ]
  },
  {
   "cell_type": "code",
   "execution_count": 76,
   "id": "6b2a7fb5-276e-42be-86f5-256190d9a4ba",
   "metadata": {},
   "outputs": [],
   "source": [
    "# What are the 3 most predictive features?"
   ]
  },
  {
   "cell_type": "code",
   "execution_count": 93,
   "id": "7808fda9-d74d-4d05-a6cd-1f630264f233",
   "metadata": {
    "editable": true,
    "slideshow": {
     "slide_type": ""
    },
    "tags": []
   },
   "outputs": [],
   "source": [
    "# Explain the 14:00 and 20:00 prediction of the test day. How could you interpret the difference? Comment also on the comparison with what found with LIME."
   ]
  },
  {
   "cell_type": "code",
   "execution_count": 83,
   "id": "c37e4187-1aa0-4814-b87b-72de360df4bf",
   "metadata": {
    "editable": true,
    "slideshow": {
     "slide_type": ""
    },
    "tags": []
   },
   "outputs": [],
   "source": [
    "# In what hours is the expected probability of watching television highest, across the train dataset? \n",
    "# Hint: use a partial dependence plot"
   ]
  },
  {
   "cell_type": "code",
   "execution_count": 86,
   "id": "6e1994db-bf51-4739-a2c1-3e8e7ab4e879",
   "metadata": {
    "editable": true,
    "slideshow": {
     "slide_type": ""
    },
    "tags": []
   },
   "outputs": [],
   "source": [
    "# Compare the partial dependence plot of expected probability of watching television (y-axis) by hour (x-axis) with\n",
    "# a scatter plot of SHAP values (y-axis) for the 24 hours test samples, by hour (x-axis).\n",
    "# Comment on their similarity/difference.\n",
    "\n",
    "# Hint: use shap.plots.scatter for the latter"
   ]
  },
  {
   "cell_type": "code",
   "execution_count": null,
   "id": "261fa1e1-9b11-447b-bf12-261e56aa05d5",
   "metadata": {
    "editable": true,
    "slideshow": {
     "slide_type": ""
    },
    "tags": []
   },
   "outputs": [],
   "source": [
    "# What is the expected probability of watching television given the electricity price throughout the train dataset?\n",
    "# How could one interpret this relationship?"
   ]
  },
  {
   "cell_type": "markdown",
   "id": "7cb7b0ca-38a5-485f-8c49-f9e9b46608e1",
   "metadata": {
    "editable": true,
    "slideshow": {
     "slide_type": ""
    },
    "tags": []
   },
   "source": [
    "### Reflections"
   ]
  },
  {
   "cell_type": "code",
   "execution_count": null,
   "id": "bb242689-196c-4285-9408-502bb372abab",
   "metadata": {},
   "outputs": [],
   "source": [
    "# What strategies could you use to improve the accuracy of predicting TV usage? What are the implications for interpretability?"
   ]
  },
  {
   "cell_type": "code",
   "execution_count": null,
   "id": "3e096134-3c43-4ee6-9263-0326bc4ced99",
   "metadata": {},
   "outputs": [],
   "source": [
    "# What could be the benefits to a user of a XAI-informed model for predicting appliances usage? What could be the risks?"
   ]
  }
 ],
 "metadata": {
  "kernelspec": {
   "display_name": "Python 3 (ipykernel)",
   "language": "python",
   "name": "python3"
  },
  "language_info": {
   "codemirror_mode": {
    "name": "ipython",
    "version": 3
   },
   "file_extension": ".py",
   "mimetype": "text/x-python",
   "name": "python",
   "nbconvert_exporter": "python",
   "pygments_lexer": "ipython3",
   "version": "3.10.13"
  }
 },
 "nbformat": 4,
 "nbformat_minor": 5
}
